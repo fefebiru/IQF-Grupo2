{
 "cells": [
  {
   "cell_type": "code",
   "execution_count": 1,
   "id": "0f5b26bc",
   "metadata": {},
   "outputs": [],
   "source": [
    "import pandas as pd\n",
    "import numpy as np\n",
    "import datetime as dt\n",
    "import quantstats as qs\n",
    "import warnings\n"
   ]
  },
  {
   "cell_type": "code",
   "execution_count": null,
   "id": "bd256f2e",
   "metadata": {},
   "outputs": [],
   "source": [
    "warnings.simplefilter(action='ignore', category=FutureWarning)\n",
    "\n",
    "closing_price = pd.read_excel('FECHAMENTO2_aula.xlsx')\n",
    "quality = pd.read_excel('base_quality_limpa.xlsx')\n",
    "low_size = pd.read_excel('base_low_size_limpa.xlsx')\n",
    "low_vol = pd.read_excel('base_low_vol_limpa.xlsx')\n",
    "momentum = pd.read_excel('base_momentum_limpa.xlsx')\n",
    "value = pd.read_excel('base_value_limpa.xlsx')"
   ]
  },
  {
   "cell_type": "code",
   "execution_count": 3,
   "id": "87f2989b",
   "metadata": {},
   "outputs": [],
   "source": [
    "closing_price['Data'] = pd.to_datetime(closing_price['Data'])\n",
    "closing_price = closing_price.set_index('Data')"
   ]
  },
  {
   "cell_type": "code",
   "execution_count": 4,
   "id": "1fe3d04f",
   "metadata": {},
   "outputs": [],
   "source": [
    "dados_ineg = pd.read_excel('ineg_limpo.xlsx')\n",
    "dados_ineg['Data'] = pd.to_datetime(dados_ineg['Data'])\n",
    "dados_ineg = dados_ineg.set_index('Data')"
   ]
  },
  {
   "cell_type": "code",
   "execution_count": null,
   "id": "7aff01eb",
   "metadata": {},
   "outputs": [],
   "source": [
    "initial_date = pd.Timestamp(dt.datetime(2017,2,2))\n",
    "final_date = closing_price.index[-1]\n",
    "\n",
    "# Colocar os lookcbacks de cada estrategia\n",
    "\n",
    "lookback_momentum = 1  #  1 mes\n",
    "lookback_low_size = 1  #  1 mes\n",
    "lookback_low_vol = 1  #  1 mes\n",
    "lookback_quality = 1  #  1 mes\n",
    "lookback_value = 1  #  1 mes\n",
    "lookback_ibx = 1  #  3 mes\n",
    "\n",
    "rebal_time = 1  #  1 mes --> unico para toda a carteira"
   ]
  },
  {
   "cell_type": "code",
   "execution_count": 6,
   "id": "d60af70e",
   "metadata": {},
   "outputs": [],
   "source": [
    "dados_ineg = dados_ineg.dropna(axis=1, how='all')\n",
    "\n",
    "cutoff_date = initial_date\n",
    "dados_ineg = dados_ineg[dados_ineg.index >= cutoff_date]"
   ]
  },
  {
   "cell_type": "code",
   "execution_count": 9,
   "id": "7872c84c",
   "metadata": {},
   "outputs": [
    {
     "ename": "AttributeError",
     "evalue": "module 'quantstats' has no attribute 'reports'",
     "output_type": "error",
     "traceback": [
      "\u001b[1;31m---------------------------------------------------------------------------\u001b[0m",
      "\u001b[1;31mAttributeError\u001b[0m                            Traceback (most recent call last)",
      "Cell \u001b[1;32mIn[9], line 84\u001b[0m\n\u001b[0;32m     80\u001b[0m         \u001b[38;5;28;01mbreak\u001b[39;00m\n\u001b[0;32m     82\u001b[0m returns \u001b[38;5;241m=\u001b[39m returns\u001b[38;5;241m.\u001b[39madd(\u001b[38;5;241m1\u001b[39m)\u001b[38;5;241m.\u001b[39mcumprod()\n\u001b[1;32m---> 84\u001b[0m \u001b[43mqs\u001b[49m\u001b[38;5;241;43m.\u001b[39;49m\u001b[43mreports\u001b[49m\u001b[38;5;241m.\u001b[39mfull(returns[\u001b[38;5;124m'\u001b[39m\u001b[38;5;124mWinners\u001b[39m\u001b[38;5;124m'\u001b[39m],returns[\u001b[38;5;124m'\u001b[39m\u001b[38;5;124mUniverso\u001b[39m\u001b[38;5;124m'\u001b[39m])\n",
      "\u001b[1;31mAttributeError\u001b[0m: module 'quantstats' has no attribute 'reports'"
     ]
    }
   ],
   "source": [
    "returns = pd.DataFrame()\n",
    "\n",
    "while True:\n",
    "\n",
    "    rebal = initial_date + pd.DateOffset(months=rebal_time)\n",
    "    \n",
    "    if rebal <= final_date:\n",
    "         \n",
    "        ineg_date_analysis = initial_date - pd.DateOffset(months=lookback_ibx)\n",
    "        ineg = dados_ineg[(dados_ineg.index < initial_date) & (dados_ineg.index >= ineg_date_analysis)]\n",
    "        ineg = ineg.bfill().ffill()\n",
    "\n",
    "        if not ineg.empty:\n",
    "            ineg = ineg.iloc[-1]\n",
    "        else:\n",
    "            initial_date += pd.DateOffset(months=rebal_time)\n",
    "            continue\n",
    "\n",
    "        ineg = ineg.reset_index()\n",
    "\n",
    "        #era ticket é o nome da ação e neg é o índice de negociabilidade\n",
    "        ineg.columns = ['ticker','neg'] if 'neg' not in ineg.columns else ineg.columns\n",
    "\n",
    "        #no fim essa lista iá significar que as ações investidas estão na lista de boa negociabilidade\n",
    "        ibx_tickers = ineg.sort_values(by='neg', ascending=False).head(100)['ticker'].tolist()\n",
    "\n",
    "\n",
    "        #momentum:\n",
    "        momentum_date_analysis = initial_date - pd.DateOffset(months=lookback_momentum)\n",
    "        momentum = closing_price[(closing_price.index < initial_date) & (closing_price.index > momentum_date_analysis)]\n",
    "\n",
    "        momentum = momentum.pct_change().add(1).cumprod().add(-1)\n",
    "        momentum = momentum.iloc[-1]\n",
    "        momentum = momentum.reset_index()\n",
    "\n",
    "        #era ticket é o nome da ação e neg é o índice de negociabilidade\n",
    "        momentum.columns = ['ticker','momentum']\n",
    "        momentum = momentum[momentum['ticker'].isin(ibx_tickers)]\n",
    "\n",
    "        momentum = momentum.sort_values(by='momentum', ascending=False).reset_index(drop=True)\n",
    "\n",
    "        book_winners = momentum.ticker[:int(len(momentum)*0.4)]\n",
    "        book_loosers = [l for l in list(momentum['ticker']) if l not in list(book_winners)]\n",
    "        # ou \n",
    "        # book_losers = momentum.ticker[int(len(momentum))*0.4:]\n",
    "\n",
    "\n",
    "        # backtest é o mesmo para winners, losers e universe\n",
    "        # universe\n",
    "        backtest_universe = closing_price[(closing_price.index >= initial_date) & (closing_price.index < rebal)]\n",
    "        backtest_universe = backtest_universe.pct_change().replace(np.nan,0)\n",
    "        backtest_universe['Retorno'] = backtest_universe.mean(axis=1)\n",
    "        backtest_universe_ret = backtest_universe['Retorno'][1:]\n",
    "\n",
    "        # losers\n",
    "        backtest_loosers = closing_price[(closing_price.index >= initial_date) & (closing_price.index < rebal)]\n",
    "        backtest_loosers = backtest_loosers[book_loosers].pct_change().replace(np.nan,0)\n",
    "        backtest_loosers['Retorno'] = backtest_loosers.mean(axis=1)\n",
    "        backtest_loosers_ret = backtest_loosers['Retorno'][1:]\n",
    "\n",
    "        # winners\n",
    "        backtest_winners = closing_price[(closing_price.index >= initial_date) & (closing_price.index < rebal)]\n",
    "        backtest_winners = backtest_winners[book_winners].pct_change().replace(np.nan,0)\n",
    "        backtest_winners['Retorno'] = backtest_winners.mean(axis=1)\n",
    "        backtest_winners_ret = backtest_winners['Retorno'][1:]\n",
    "\n",
    "        # retorno\n",
    "        retorno_rebal = pd.DataFrame({\n",
    "            'Winners': backtest_winners_ret,\n",
    "            'Universo': backtest_universe_ret,\n",
    "            'Losers': backtest_loosers_ret,\n",
    "        })\n",
    "\n",
    "\n",
    "        returns = pd.concat([returns, retorno_rebal], ignore_index=False)\n",
    "\n",
    "        initial_date = initial_date + pd.DateOffset(months=rebal_time)\n",
    "\n",
    "    else:\n",
    "        break\n",
    "\n",
    "returns = returns.add(1).cumprod()\n",
    "\n",
    "qs.reports.full(returns['Winners'],returns['Universo'])\n"
   ]
  },
  {
   "cell_type": "code",
   "execution_count": null,
   "id": "bbeb3f66",
   "metadata": {},
   "outputs": [],
   "source": []
  }
 ],
 "metadata": {
  "kernelspec": {
   "display_name": "Python 3",
   "language": "python",
   "name": "python3"
  },
  "language_info": {
   "codemirror_mode": {
    "name": "ipython",
    "version": 3
   },
   "file_extension": ".py",
   "mimetype": "text/x-python",
   "name": "python",
   "nbconvert_exporter": "python",
   "pygments_lexer": "ipython3",
   "version": "3.11.9"
  }
 },
 "nbformat": 4,
 "nbformat_minor": 5
}
